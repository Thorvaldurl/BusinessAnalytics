{
 "cells": [
  {
   "cell_type": "markdown",
   "id": "8fe1dea4",
   "metadata": {},
   "source": [
    "# Final Project Report: Group X\n",
    "\n",
    "Technical report of the Final Project of the course Advanced Business Analytics"
   ]
  },
  {
   "cell_type": "markdown",
   "id": "5df1dc5c",
   "metadata": {},
   "source": [
    "### Introduction\n",
    "Our project revolves around the use of advanced analytics and Natural Lenguage Processing tools for the recommendation of products close to expiration in supermarkets of the Sailing Group. By accessing the data available on the different APIs offered by the Sailing group, we set to focus on the real-time data of discounted products in order to provide tailored recommendation for the user based on data and feedback the user provides. Initially, we explore simple recommendation techniques based on quantitative metrics such as discounted price and we proceed to create a system that recommends products based on the user's specific wish. Finally, we focus on LLMs and how via prompt engineering they can offer a new prespective and window of opportunity for recommender systems, not only via single-item recommendation but also via generative approaches. "
   ]
  },
  {
   "cell_type": "markdown",
   "id": "298507d3",
   "metadata": {},
   "source": [
    "### Motivation\n",
    "- Here we explin a bit of the motivation on why food waste and why using LLMs are a need promising alternative"
   ]
  },
  {
   "cell_type": "markdown",
   "id": "406ff40f",
   "metadata": {},
   "source": [
    "### Data analysis and visualization\n",
    "- Initial call on the API\n",
    "- Retrieval of as much data from different stores as possible. \n",
    "- Provide stats on this data (Thor's visualization notebook)\n",
    "- Conclude explining challenges and possibilities (challenges: lots of already-made food, hard to categorize items and short selection of certain products like veggies)(possibilities: set step for further sections)"
   ]
  },
  {
   "cell_type": "markdown",
   "id": "807a43b4",
   "metadata": {},
   "source": [
    "### Simple recommendation techniques\n",
    "- Andres's notebook on recommendation based on discount"
   ]
  },
  {
   "cell_type": "markdown",
   "id": "149edc5c",
   "metadata": {},
   "source": [
    "### Word embedding for user-guided recommendation \n",
    "- Anika's clustering for \n",
    "- Thor's notebook for looking up similar products to a given word\n"
   ]
  },
  {
   "cell_type": "markdown",
   "id": "36dc2250",
   "metadata": {},
   "source": [
    "### LLMs and prompt engineering for advanced recommendation\n",
    "- Explain challenges and limitations of previous recommendation methods\n",
    "- Introduce recipe generation and user engagement ideas\n",
    "- Oriol's notebook"
   ]
  }
 ],
 "metadata": {
  "kernelspec": {
   "display_name": "DL",
   "language": "python",
   "name": "python3"
  },
  "language_info": {
   "codemirror_mode": {
    "name": "ipython",
    "version": 3
   },
   "file_extension": ".py",
   "mimetype": "text/x-python",
   "name": "python",
   "nbconvert_exporter": "python",
   "pygments_lexer": "ipython3",
   "version": "3.13.2"
  }
 },
 "nbformat": 4,
 "nbformat_minor": 5
}
