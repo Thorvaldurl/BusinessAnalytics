{
 "cells": [
  {
   "cell_type": "markdown",
   "id": "68decb0b",
   "metadata": {},
   "source": [
    "# Block 1: Data Ingestion\n",
    "This notebook fetches real-time discounted food items using the Salling Group API and processes them for further analysis.\n"
   ]
  },
  {
   "cell_type": "code",
   "execution_count": 1,
   "id": "9baf69e6",
   "metadata": {},
   "outputs": [],
   "source": [
    "import requests\n",
    "import pandas as pd\n",
    "import json\n"
   ]
  },
  {
   "cell_type": "code",
   "execution_count": 2,
   "id": "d8e533bf",
   "metadata": {},
   "outputs": [],
   "source": [
    "# Your API token\n",
    "token = \"SG_APIM_CM1M3GXGSA98V8PJ19BQDJPM238NHTTS5TVT7JM7Y2E2VEDBFQQ0\"\n",
    "headers = {\n",
    "    \"Authorization\": f\"Bearer {token}\"\n",
    "}\n"
   ]
  },
  {
   "cell_type": "code",
   "execution_count": null,
   "id": "cff952e2",
   "metadata": {
    "scrolled": true
   },
   "outputs": [],
   "source": [
    "\n",
    "def fetch_food_waste_data(zip_code):\n",
    "    url = \"https://api.sallinggroup.com/v1/food-waste/?zip={zip_code}\"\n",
    "    response = requests.get(url, headers=headers)\n",
    "    if response.status_code == 200:\n",
    "        api_data = response.json()\n",
    "        if isinstance(api_data, list):\n",
    "            api_data = api_data[0]  # ✅ Fix here\n",
    "        return api_data\n",
    "    else:\n",
    "        print(f\"Error fetching for zip {zip_code}: {response.status_code}\")\n",
    "        return None\n"
   ]
  },
  {
   "cell_type": "code",
   "execution_count": 9,
   "id": "1feb42c8-e8d3-4914-a17b-29d915ae6779",
   "metadata": {
    "scrolled": true
   },
   "outputs": [
    {
     "name": "stdout",
     "output_type": "stream",
     "text": [
      "⚠️ API request failed with status code 401\n",
      "{}\n"
     ]
    }
   ],
   "source": [
    "api_data = fetch_food_waste_data(2400)\n",
    "print(json.dumps(api_data, indent=2))\n"
   ]
  },
  {
   "cell_type": "code",
   "execution_count": null,
   "id": "2b138be9-106d-4183-b3ea-f1d6e1856255",
   "metadata": {},
   "outputs": [],
   "source": [
    "import pandas as pd\n",
    "\n",
    "def create_products_dataframe(api_data, zip_code):\n",
    "    products = []\n",
    "    \n",
    "    if not api_data or \"clearances\" not in api_data:\n",
    "        print(f\"⚠️ No clearances for ZIP {zip_code}\")\n",
    "        return pd.DataFrame()\n",
    "    \n",
    "    for item in api_data[\"clearances\"]:\n",
    "        try:\n",
    "            product = item.get(\"product\", {})\n",
    "            offer = item.get(\"offer\", {})\n",
    "            \n",
    "            categories = product.get(\"categories\", {})\n",
    "            category_full = categories.get(\"en\") or categories.get(\"da\") or \"Unknown>Unknown\"\n",
    "\n",
    "            category_parts = category_full.split(\">\")\n",
    "            broad = category_parts[0].strip() if len(category_parts) > 0 else \"Unknown\"\n",
    "            least = category_parts[1].strip() if len(category_parts) > 1 else \"Unknown\"\n",
    "            mid = category_parts[2].strip() if len(category_parts) > 2 else \"Unknown\"\n",
    "            fine = category_parts[3].strip() if len(category_parts) > 3 else \"Unknown\"\n",
    "\n",
    "            # Determine final_category using the rule-based priority\n",
    "            if fine != \"Unknown\":\n",
    "                final = fine\n",
    "            elif mid != \"Unknown\":\n",
    "                final = mid\n",
    "            elif least != \"Unknown\":\n",
    "                final = least\n",
    "            elif broad != \"Unknown\":\n",
    "                final = broad\n",
    "            else:\n",
    "                final = \"Unknown\"\n",
    "\n",
    "            products.append({\n",
    "                \"zip_code\": zip_code,\n",
    "                \"broad_category\": broad,\n",
    "                \"least_category\": least,\n",
    "                \"mid_category\": mid,\n",
    "                \"fine_category\": fine,\n",
    "                \"final_category\": final,\n",
    "                \"description\": product.get(\"description\", \"Unknown\"),\n",
    "                \"original_price\": offer.get(\"originalPrice\"),\n",
    "                \"new_price\": offer.get(\"newPrice\"),\n",
    "                \"discount\": offer.get(\"discount\"),\n",
    "            })\n",
    "        \n",
    "        except Exception as e:\n",
    "            print(f\"⚠️ Skipping one item due to error: {e}\")\n",
    "            continue\n",
    "    \n",
    "    return pd.DataFrame(products)\n"
   ]
  },
  {
   "cell_type": "code",
   "execution_count": null,
   "id": "5186c0b1-aacf-491d-bebb-fce8d0920a1c",
   "metadata": {},
   "outputs": [],
   "source": [
    "#8000, 2400, 2000, 2100, 2200, 2300, 2500, 2600\n",
    "zip_codes = [2700, 2800, 3100, 3000]\n",
    "\n",
    "all_products = [] \n",
    "\n",
    "for zip_code in zip_codes:\n",
    "    api_data = fetch_food_waste_data(zip_code)\n",
    "    df = create_products_dataframe(api_data, zip_code)\n",
    "    all_products.append(df)\n",
    "\n",
    "df_all_products = pd.concat(all_products, ignore_index=True)\n",
    "\n",
    "\n",
    "print(df_all_products.head())\n"
   ]
  },
  {
   "cell_type": "code",
   "execution_count": null,
   "id": "faff2559-679d-4a67-8875-a7e731a185ac",
   "metadata": {},
   "outputs": [],
   "source": [
    "df_all_products.to_csv(\"food_waste_products_combined.csv\", index=False)\n",
    "print(\"CSV file saved!\")\n"
   ]
  },
  {
   "cell_type": "code",
   "execution_count": null,
   "id": "4a6cf6b8-2bff-4bbe-b973-41379e65b82f",
   "metadata": {},
   "outputs": [],
   "source": []
  }
 ],
 "metadata": {
  "kernelspec": {
   "display_name": "Python 3",
   "language": "python",
   "name": "python3"
  },
  "language_info": {
   "codemirror_mode": {
    "name": "ipython",
    "version": 3
   },
   "file_extension": ".py",
   "mimetype": "text/x-python",
   "name": "python",
   "nbconvert_exporter": "python",
   "pygments_lexer": "ipython3",
   "version": "3.11.9"
  }
 },
 "nbformat": 4,
 "nbformat_minor": 5
}
