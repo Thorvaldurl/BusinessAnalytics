{
 "cells": [
  {
   "cell_type": "markdown",
   "id": "083b0a0e-1113-4dbd-a609-efa674a04c3c",
   "metadata": {},
   "source": [
    "# Embedding-Based Recommender\n",
    "\n",
    "This notebook builds an advanced recommender system using sentence embeddings.\n",
    "We use product names to recommend similar discounted products\n"
   ]
  },
  {
   "cell_type": "code",
   "execution_count": 1,
   "id": "ac30e75a-2771-436f-b4d7-01be0df7d698",
   "metadata": {},
   "outputs": [],
   "source": [
    "import pandas as pd\n",
    "import numpy as np\n",
    "import matplotlib.pyplot as plt\n",
    "from sentence_transformers import SentenceTransformer\n",
    "from sklearn.metrics.pairwise import cosine_similarity\n"
   ]
  },
  {
   "cell_type": "code",
   "execution_count": 2,
   "id": "6324d5ff-ce20-42eb-be96-9b4d41fb366b",
   "metadata": {},
   "outputs": [],
   "source": [
    "# Load dataset\n",
    "data = pd.read_csv('food_waste_products_combined.csv')\n",
    "\n",
    "# Remove 'Unknown' fine categories\n",
    "data = data[data['final_category'] != ''].reset_index(drop=True)\n",
    "\n",
    "# Remove Ready meals\n",
    "data = data[data['category2'] != 'Ready To Eat Meals'].reset_index(drop=True)"
   ]
  },
  {
   "cell_type": "code",
   "execution_count": null,
   "id": "0efd8f49-555a-4990-84ec-27cab0945ca9",
   "metadata": {},
   "outputs": [],
   "source": [
    "#pip install deep_translator"
   ]
  },
  {
   "cell_type": "code",
   "execution_count": 3,
   "id": "a28645af-8e80-4603-afc3-e00ea5da0531",
   "metadata": {},
   "outputs": [],
   "source": [
    "from deep_translator import GoogleTranslator\n",
    "\n",
    "data['description_en'] = data['description'].apply(\n",
    "    lambda x: GoogleTranslator(source='da', target='en').translate(x) if pd.notnull(x) else \"\"\n",
    ")\n"
   ]
  },
  {
   "cell_type": "code",
   "execution_count": 4,
   "id": "06653679-9172-45cc-9112-d122236fc8f9",
   "metadata": {},
   "outputs": [
    {
     "name": "stdout",
     "output_type": "stream",
     "text": [
      "                     description                         description_en\n",
      "0               KERNERUGBRØD ØGO                     Core rye bread Øgo\n",
      "1  JUICE HINDBÆR SOLBÆR INNOCENT  Juice Raspberry Blackcurrant Innocent\n",
      "2           MANGO/PASS LØGISMOSE                   Mango/Pass Løgismose\n",
      "3            KRABBESALAT K-SALAT                     Crab salad K Salad\n",
      "4           SKOVBÆR DRIK ACTIMEL           Forest berries Drink Actimel\n",
      "5       ITALIENSK SALAT GRAASTEN                 Italian Salad Graasten\n",
      "6     DET GODE GULEROD SCHULSTAD              The good carrot Schulstad\n",
      "7          INNER WINNER INNOCENT                  Inner Winner Innocent\n",
      "8             OKSESPEGEPØLSE ØGO               Beef sausage sausage Øgo\n",
      "9             ÆBLEJUICE INNOCENT                   Apple juice innocent\n"
     ]
    }
   ],
   "source": [
    "print(data[['description', 'description_en']].head(10))\n"
   ]
  },
  {
   "cell_type": "code",
   "execution_count": 5,
   "id": "4ae3eccf-d232-4285-aafa-6f288d319ab6",
   "metadata": {},
   "outputs": [],
   "source": [
    "# Combine columns to create richer text for embedding\n",
    "data['text_for_embedding'] = (\n",
    "    data['category1'].astype(str) + \" \" +\n",
    "    data['category2'].astype(str) + \" \" +\n",
    "    data['category3'].astype(str) + \" \" +\n",
    "    data['category4'].astype(str) + \" \" +\n",
    "    data['category5'].astype(str) + \" \" +\n",
    "    data['category6'].astype(str) + \" \" +\n",
    "    data['category7'].astype(str) + \" \" +\n",
    "    data['category8'].astype(str) + \" \" +\n",
    "    data['category9'].astype(str) + \" \" +\n",
    "    data['category10'].astype(str) + \" \" +\n",
    "    data['final_category'].astype(str) + \" \" +\n",
    "    data['description_en'].astype(str)\n",
    ")"
   ]
  },
  {
   "cell_type": "code",
   "execution_count": 6,
   "id": "4673cac5-e0bc-495e-95e6-0ffcbc8a4400",
   "metadata": {},
   "outputs": [
    {
     "data": {
      "application/vnd.jupyter.widget-view+json": {
       "model_id": "279182f06bfe48d3ad14b51cc78e2763",
       "version_major": 2,
       "version_minor": 0
      },
      "text/plain": [
       "Batches:   0%|          | 0/5 [00:00<?, ?it/s]"
      ]
     },
     "metadata": {},
     "output_type": "display_data"
    }
   ],
   "source": [
    "# Load the MiniLM model\n",
    "model = SentenceTransformer('all-MiniLM-L6-v2')\n",
    "\n",
    "# Generate embeddings\n",
    "product_texts = data['text_for_embedding'].tolist()\n",
    "embeddings = model.encode(product_texts, show_progress_bar=True)\n",
    "\n",
    "# Compute cosine similarity matrix\n",
    "similarity_matrix = cosine_similarity(embeddings)\n"
   ]
  },
  {
   "cell_type": "code",
   "execution_count": 7,
   "id": "97298b7e-fffa-4ed7-bbc8-53251bbbe9ce",
   "metadata": {},
   "outputs": [],
   "source": [
    "def recommend_semantic_discounted(product_name, top_n=5, similarity_threshold=0.4):\n",
    "    \"\"\"\n",
    "    Recommend products that are semantically similar (based on embeddings)\n",
    "    and have a good discount.\n",
    "    \"\"\"\n",
    "    matches = data[data['text_for_embedding'].str.contains(product_name, case=False, na=False)]\n",
    "\n",
    "    if matches.empty:\n",
    "        print(f\"No product found with name containing '{product_name}'.\")\n",
    "        print(\"\\nHere are some valid examples you can try:\")\n",
    "        print(data['final_category'].drop_duplicates().sample(5, random_state=42).tolist())\n",
    "        return None\n",
    "\n",
    "    index = matches.index[0]\n",
    "    input_vector = embeddings[index]\n",
    "\n",
    "    scores = cosine_similarity([input_vector], embeddings)[0]\n",
    "    data['similarity'] = scores\n",
    "\n",
    "    similar_items = data[\n",
    "        (data.index != index) &\n",
    "        (data['similarity'] >= similarity_threshold)\n",
    "    ].copy()\n",
    "\n",
    "    similar_items = (\n",
    "        similar_items\n",
    "        .sort_values(by=['similarity', 'discount'], ascending=[False, False])\n",
    "        .drop_duplicates(subset=['final_category'])\n",
    "        .head(top_n)\n",
    "    )\n",
    "\n",
    "    print(\"Found product info:\")\n",
    "    print(data.loc[index, ['final_category', 'zip_code', 'store_name', 'store_street']])\n",
    "    return similar_items[['zip_code', 'store_name', 'store_street', 'final_category', 'category1', 'original_price', 'new_price', 'discount', 'similarity']]\n"
   ]
  },
  {
   "cell_type": "code",
   "execution_count": 10,
   "id": "48742280-c387-4fac-86eb-ad0ad9a31eb0",
   "metadata": {},
   "outputs": [
    {
     "name": "stdout",
     "output_type": "stream",
     "text": [
      "Found product info:\n",
      "final_category    Fish Mayo Salads\n",
      "zip_code                      2400\n",
      "store_name         Netto Emdrupvej\n",
      "store_street         Emdrupvej 107\n",
      "Name: 3, dtype: object\n"
     ]
    },
    {
     "data": {
      "text/html": [
       "<div>\n",
       "<style scoped>\n",
       "    .dataframe tbody tr th:only-of-type {\n",
       "        vertical-align: middle;\n",
       "    }\n",
       "\n",
       "    .dataframe tbody tr th {\n",
       "        vertical-align: top;\n",
       "    }\n",
       "\n",
       "    .dataframe thead th {\n",
       "        text-align: right;\n",
       "    }\n",
       "</style>\n",
       "<table border=\"1\" class=\"dataframe\">\n",
       "  <thead>\n",
       "    <tr style=\"text-align: right;\">\n",
       "      <th></th>\n",
       "      <th>zip_code</th>\n",
       "      <th>store_name</th>\n",
       "      <th>store_street</th>\n",
       "      <th>final_category</th>\n",
       "      <th>category1</th>\n",
       "      <th>original_price</th>\n",
       "      <th>new_price</th>\n",
       "      <th>discount</th>\n",
       "      <th>similarity</th>\n",
       "    </tr>\n",
       "  </thead>\n",
       "  <tbody>\n",
       "    <tr>\n",
       "      <th>32</th>\n",
       "      <td>2400</td>\n",
       "      <td>Netto Utterslevvej</td>\n",
       "      <td>Utterslevvej 11</td>\n",
       "      <td>Other Mayo Salads</td>\n",
       "      <td>Dairy And Cold Storage</td>\n",
       "      <td>12.00</td>\n",
       "      <td>9</td>\n",
       "      <td>3.00</td>\n",
       "      <td>0.943635</td>\n",
       "    </tr>\n",
       "    <tr>\n",
       "      <th>5</th>\n",
       "      <td>2400</td>\n",
       "      <td>Netto Emdrupvej</td>\n",
       "      <td>Emdrupvej 107</td>\n",
       "      <td>Italian Mayo Salads</td>\n",
       "      <td>Dairy And Cold Storage</td>\n",
       "      <td>12.00</td>\n",
       "      <td>9</td>\n",
       "      <td>3.00</td>\n",
       "      <td>0.921086</td>\n",
       "    </tr>\n",
       "    <tr>\n",
       "      <th>134</th>\n",
       "      <td>2400</td>\n",
       "      <td>Netto Tuborgvej</td>\n",
       "      <td>Tuborgvej 239</td>\n",
       "      <td>Cold Cuts Chicken</td>\n",
       "      <td>Dairy And Cold Storage</td>\n",
       "      <td>15.95</td>\n",
       "      <td>8</td>\n",
       "      <td>7.95</td>\n",
       "      <td>0.763107</td>\n",
       "    </tr>\n",
       "    <tr>\n",
       "      <th>34</th>\n",
       "      <td>2400</td>\n",
       "      <td>Netto Utterslevvej</td>\n",
       "      <td>Utterslevvej 11</td>\n",
       "      <td>Sliced Lunch Meats</td>\n",
       "      <td>Dairy And Cold Storage</td>\n",
       "      <td>14.95</td>\n",
       "      <td>9</td>\n",
       "      <td>5.95</td>\n",
       "      <td>0.756558</td>\n",
       "    </tr>\n",
       "    <tr>\n",
       "      <th>17</th>\n",
       "      <td>2400</td>\n",
       "      <td>Netto Frederikssundsvej 52</td>\n",
       "      <td>Frederikssundsvej 52 ST.</td>\n",
       "      <td>Salami</td>\n",
       "      <td>Dairy And Cold Storage</td>\n",
       "      <td>10.95</td>\n",
       "      <td>8</td>\n",
       "      <td>2.95</td>\n",
       "      <td>0.739055</td>\n",
       "    </tr>\n",
       "  </tbody>\n",
       "</table>\n",
       "</div>"
      ],
      "text/plain": [
       "     zip_code                  store_name              store_street  \\\n",
       "32       2400          Netto Utterslevvej           Utterslevvej 11   \n",
       "5        2400             Netto Emdrupvej             Emdrupvej 107   \n",
       "134      2400             Netto Tuborgvej             Tuborgvej 239   \n",
       "34       2400          Netto Utterslevvej           Utterslevvej 11   \n",
       "17       2400  Netto Frederikssundsvej 52  Frederikssundsvej 52 ST.   \n",
       "\n",
       "          final_category               category1  original_price  new_price  \\\n",
       "32     Other Mayo Salads  Dairy And Cold Storage           12.00          9   \n",
       "5    Italian Mayo Salads  Dairy And Cold Storage           12.00          9   \n",
       "134    Cold Cuts Chicken  Dairy And Cold Storage           15.95          8   \n",
       "34    Sliced Lunch Meats  Dairy And Cold Storage           14.95          9   \n",
       "17                Salami  Dairy And Cold Storage           10.95          8   \n",
       "\n",
       "     discount  similarity  \n",
       "32       3.00    0.943635  \n",
       "5        3.00    0.921086  \n",
       "134      7.95    0.763107  \n",
       "34       5.95    0.756558  \n",
       "17       2.95    0.739055  "
      ]
     },
     "execution_count": 10,
     "metadata": {},
     "output_type": "execute_result"
    }
   ],
   "source": [
    "recommend_semantic_discounted(\"crab\")\n",
    "\n",
    "\n"
   ]
  },
  {
   "cell_type": "code",
   "execution_count": null,
   "id": "f9254b25-4742-4454-908a-396deb289488",
   "metadata": {},
   "outputs": [],
   "source": [
    "recommend_semantic_discounted(\"cheese\")\n"
   ]
  },
  {
   "cell_type": "code",
   "execution_count": null,
   "id": "dbc0a037-27f5-43e8-80c9-c32b9c346450",
   "metadata": {},
   "outputs": [],
   "source": [
    "recommend_semantic_discounted(\"salami\")\n"
   ]
  },
  {
   "cell_type": "code",
   "execution_count": null,
   "id": "0be60070-7217-44b6-8698-63c212984343",
   "metadata": {},
   "outputs": [],
   "source": [
    "recommend_semantic_discounted(\"ham\")\n"
   ]
  },
  {
   "cell_type": "code",
   "execution_count": null,
   "id": "d05d9527-450b-4fe5-aa32-bfde558c5c2c",
   "metadata": {},
   "outputs": [],
   "source": []
  }
 ],
 "metadata": {
  "kernelspec": {
   "display_name": "Python 3",
   "language": "python",
   "name": "python3"
  },
  "language_info": {
   "codemirror_mode": {
    "name": "ipython",
    "version": 3
   },
   "file_extension": ".py",
   "mimetype": "text/x-python",
   "name": "python",
   "nbconvert_exporter": "python",
   "pygments_lexer": "ipython3",
   "version": "3.11.9"
  }
 },
 "nbformat": 4,
 "nbformat_minor": 5
}
