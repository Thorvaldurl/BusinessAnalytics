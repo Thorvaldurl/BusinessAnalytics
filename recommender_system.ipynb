{
 "cells": [
  {
   "cell_type": "code",
   "execution_count": 105,
   "id": "4c9843cb",
   "metadata": {},
   "outputs": [],
   "source": [
    "import requests\n",
    "import pandas as pd\n",
    "from IPython.display import display"
   ]
  },
  {
   "cell_type": "code",
   "execution_count": 106,
   "id": "41244469",
   "metadata": {},
   "outputs": [],
   "source": [
    "API_TOKEN = \"SG_APIM_FNS4ADJYW4ZJSET806PQT78DT8DDGAHSP2B2TKVF0K3V2ZG6VYAG\"\n",
    "headers = {\"Authorization\": f\"Bearer {API_TOKEN}\"}"
   ]
  },
  {
   "cell_type": "code",
   "execution_count": 107,
   "id": "1876ad56",
   "metadata": {},
   "outputs": [],
   "source": [
    "zip_code = \"2500\"\n",
    "stores_url = f\"https://api.sallinggroup.com/v1/food-waste/?zip={zip_code}\"\n",
    "store_response = requests.get(stores_url, headers=headers)\n",
    "\n",
    "all_rows = []\n",
    "\n",
    "if store_response.status_code == 200:\n",
    "    stores = store_response.json()\n",
    "\n",
    "    for store_entry in stores:\n",
    "        store_info = store_entry.get(\"store\", {})\n",
    "        store_id = store_info.get(\"id\")\n",
    "        store_name = store_info.get(\"name\")\n",
    "\n",
    "        if not store_id:\n",
    "            continue\n",
    "\n",
    "        clearance_url = f\"https://api.sallinggroup.com/v1/food-waste/{store_id}\"\n",
    "        clearance_response = requests.get(clearance_url, headers=headers)\n",
    "\n",
    "        if clearance_response.status_code == 200:\n",
    "            data = clearance_response.json()\n",
    "            clearances = data.get(\"clearances\", [])\n",
    "\n",
    "            for item in clearances:\n",
    "                product = item.get(\"product\", {})\n",
    "                offer = item.get(\"offer\", {})\n",
    "\n",
    "                all_rows.append({\n",
    "                    \"Store\": store_name,\n",
    "                    \"Product\": product.get(\"description\"),\n",
    "                    \"Category (da)\": product.get(\"categories\", {}).get(\"da\", \"\"),\n",
    "                    \"Price (DKK)\": offer.get(\"newPrice\"),\n",
    "                    \"Original Price\": offer.get(\"originalPrice\"),\n",
    "                    \"Discount\": offer.get(\"discount\"),\n",
    "                    \"Stock\": offer.get(\"stock\"),\n",
    "                })"
   ]
  },
  {
   "cell_type": "code",
   "execution_count": 108,
   "id": "73b8fbb1",
   "metadata": {},
   "outputs": [],
   "source": [
    "df = pd.DataFrame(all_rows)"
   ]
  },
  {
   "cell_type": "code",
   "execution_count": 109,
   "id": "320b063c",
   "metadata": {},
   "outputs": [
    {
     "name": "stdout",
     "output_type": "stream",
     "text": [
      "✅ Table exported to 'discounted_products_full.csv'\n"
     ]
    }
   ],
   "source": [
    "df.to_csv(\"discounted_products_full.csv\", index=False)\n",
    "print(\"✅ Table exported to 'discounted_products_full.csv'\")"
   ]
  },
  {
   "cell_type": "code",
   "execution_count": 110,
   "id": "9e2360b0",
   "metadata": {},
   "outputs": [],
   "source": [
    "from deep_translator import GoogleTranslator\n",
    "import pandas as pd"
   ]
  },
  {
   "cell_type": "code",
   "execution_count": 111,
   "id": "37ed2049",
   "metadata": {},
   "outputs": [],
   "source": [
    "df = pd.read_csv(\"discounted_products_full.csv\") # load discounted_products_full "
   ]
  },
  {
   "cell_type": "code",
   "execution_count": 112,
   "id": "4aa01537",
   "metadata": {},
   "outputs": [],
   "source": [
    "translator = GoogleTranslator(source='auto', target='en') # Translate \n",
    "\n",
    "df['Product_EN'] = df['Product'].apply(lambda x: translator.translate(x) if pd.notna(x) else \"\")\n",
    "df['Category_EN'] = df['Category (da)'].apply(lambda x: translator.translate(x) if pd.notna(x) else \"\")"
   ]
  },
  {
   "cell_type": "code",
   "execution_count": 113,
   "id": "0fcbdcdb",
   "metadata": {},
   "outputs": [
    {
     "name": "stdout",
     "output_type": "stream",
     "text": [
      "✅ Translation complete. Saved to 'discounted_products_translated.csv'\n"
     ]
    }
   ],
   "source": [
    "df.to_csv(\"discounted_products_translated.csv\", index=False)\n",
    "print(\"✅ Translation complete. Saved to 'discounted_products_translated.csv'\") "
   ]
  },
  {
   "cell_type": "code",
   "execution_count": 128,
   "id": "54c6a874",
   "metadata": {},
   "outputs": [],
   "source": [
    "import pandas as pd\n",
    "import re\n",
    "from gensim.models import Word2Vec"
   ]
  },
  {
   "cell_type": "code",
   "execution_count": 130,
   "id": "87d1369d",
   "metadata": {},
   "outputs": [],
   "source": [
    "xfile_path = \"discounted_products_translated.csv\"  \n",
    "df = pd.read_csv(file_path)"
   ]
  },
  {
   "cell_type": "code",
   "execution_count": 131,
   "id": "70dd49cb",
   "metadata": {},
   "outputs": [],
   "source": [
    "# clean the data\n",
    "category_col = \"Category_EN\" if \"Category_EN\" in df.columns else \"Category (da)\"\n",
    "df[category_col] = df[category_col].fillna(\"\").str.lower()\n",
    "df[\"Product_EN\"] = df[\"Product_EN\"].fillna(\"\").str.lower()\n",
    "df[\"Product\"] = df[\"Product\"].fillna(\"\").str.lower()"
   ]
  },
  {
   "cell_type": "code",
   "execution_count": 132,
   "id": "3e7f6cde",
   "metadata": {},
   "outputs": [],
   "source": [
    "# nested category values \n",
    "def map_category(val):\n",
    "    if pd.isna(val) or val.strip() == \"\":\n",
    "        return \"others\"\n",
    "    return val.split(\">\")[0].strip() if \">\" in val else val.strip()\n",
    "\n",
    "df[\"Mapped_Category\"] = df[category_col].apply(map_category)"
   ]
  },
  {
   "cell_type": "code",
   "execution_count": 133,
   "id": "6a756fbb",
   "metadata": {},
   "outputs": [],
   "source": [
    "# category-to-product mapping\n",
    "unique_categories = df[\"Mapped_Category\"].unique()\n",
    "category_mapping = {cat: df[df[\"Mapped_Category\"] == cat] for cat in unique_categories if cat.strip() != \"\"}"
   ]
  },
  {
   "cell_type": "code",
   "execution_count": 134,
   "id": "51395bfe",
   "metadata": {},
   "outputs": [],
   "source": [
    "# product-to-category mapping\n",
    "product_to_category = dict(zip(df[\"Product_EN\"], df[\"Mapped_Category\"]))\n",
    "product_to_category.update(dict(zip(df[\"Product\"], df[\"Mapped_Category\"])))"
   ]
  },
  {
   "cell_type": "code",
   "execution_count": 135,
   "id": "e349b4dc",
   "metadata": {},
   "outputs": [],
   "source": [
    "output_columns = [col for col in [\"Product_EN\", \"Original Price\", \"Discounted Price (DKK)\", \"Store\"] if col in df.columns]"
   ]
  },
  {
   "cell_type": "code",
   "execution_count": 141,
   "id": "5efb7f32",
   "metadata": {},
   "outputs": [
    {
     "name": "stdout",
     "output_type": "stream",
     "text": [
      "\n",
      "Products matching 'chicken':\n",
      "\n",
      "                  Product_EN  Original Price  Price (DKK)                    Store\n",
      "  wrap w/chicken/curry named           22.95        18.93 Netto Valby, Roskildevej\n",
      "       chicken burrito named           30.00        23.00 Netto Valby, Roskildevej\n",
      "chicken breast oak happiness           13.75        10.00    Netto Toftegårds Allé\n",
      "  wrap w/chicken/curry named           22.95        16.00 Netto Valby Maskinfabrik\n",
      "\n",
      "Products matching 'ost':\n",
      "\n",
      "                  Product_EN  Original Price  Price (DKK)                    Store\n",
      "oliven/salatost the campaign           19.95         11.0 Netto Valby, Roskildevej\n",
      " grovhak. leverposty stryhns           29.95         15.0    Netto Toftegårds Allé\n",
      "         salatost block puck           25.00         19.0 Netto Valby Maskinfabrik\n",
      "         skiveost grønnelund           45.00         25.0 Netto Valby Maskinfabrik\n",
      "    frankf. ost c. vollstedt           25.00         19.0 Netto Valby Maskinfabrik\n",
      " skiveost l 45+ h.c. anderse           18.00         14.0 Netto Valby Maskinfabrik\n",
      "\n",
      "Products matching 'bread':\n",
      "\n",
      "                      Product_EN  Original Price  Price (DKK)                    Store\n",
      "    serving milk bread schulstad           20.00         11.0              Netto Valby\n",
      "             core bread old mill            7.75          6.0              Netto Valby\n",
      "     flaxseed rye bread old mill            9.75          5.0              Netto Valby\n",
      "the good sun rye bread schulstad           13.25         10.0              Netto Valby\n",
      "              core rye bread øgo           15.95         12.0 Netto Valby, Roskildevej\n",
      "         sunflower rye bread øgo            9.75          7.0    Netto Toftegårds Allé\n",
      "      fanø broke signature bread           25.50         13.0    Netto Toftegårds Allé\n",
      "        sunflower bread old mill            8.95          7.0    Netto Toftegårds Allé\n",
      "         dark rye bread old mill            5.75          4.0    Netto Toftegårds Allé\n",
      "    serving milk bread schulstad           20.00         15.0       Netto Vigerslevvej\n",
      "              core rye bread øgo           15.95         12.0       Netto Vigerslevvej\n",
      "                  flatbread liba           10.95          6.0 Netto Valby Maskinfabrik\n",
      "              core rye bread øgo           15.95         12.0 Netto Valby Maskinfabrik\n",
      "      fanø broke signature bread           25.50         13.0 Netto Valby Maskinfabrik\n",
      "\n",
      "Discounted products under category 'meat & fish':\n",
      "\n",
      "                 Product_EN  Original Price  Price (DKK)                    Store\n",
      "              burgerbøf øgo           39.95         31.0              Netto Valby\n",
      "           pork roast taste           89.95         56.0              Netto Valby\n",
      "      make -up steaks taste           26.35         19.0              Netto Valby\n",
      "marinated tomahawk premieur           49.95         30.0 Netto Valby, Roskildevej\n",
      "    hk. pig/calf 4-7% taste           39.95         24.0 Netto Valby, Roskildevej\n",
      "              medists taste           34.95         21.0 Netto Valby, Roskildevej\n",
      "              burgerbøf øgo           39.95         31.0    Netto Toftegårds Allé\n",
      "          neck fillet taste           89.95         54.0       Netto Vigerslevvej\n",
      "            mar. neck. wide           65.95         40.0       Netto Vigerslevvej\n",
      "           pork roast taste           89.95         71.0 Netto Valby Maskinfabrik\n",
      "              medists taste           34.95         21.0 Netto Valby Maskinfabrik\n",
      "          pulled pork tulip           40.00         31.0 Netto Valby Maskinfabrik\n"
     ]
    }
   ],
   "source": [
    "while True:\n",
    "    user_input = input(\"\\nType a product name to find similar discounted products (or 'exit' to stop): \").lower().strip()\n",
    "\n",
    "    if user_input == \"exit\":\n",
    "        break\n",
    "    \n",
    "    # Partial match in product name\n",
    "    keyword_df = df[df[\"Product_EN\"].str.contains(user_input, case=False, na=False)]\n",
    "    if not keyword_df.empty:\n",
    "        print(f\"\\nProducts matching '{user_input}':\\n\")\n",
    "        print(keyword_df[output_columns].to_string(index=False))\n",
    "        continue\n",
    "\n",
    "    # Partial match in category\n",
    "    partial_categories = [cat for cat in category_mapping if user_input in cat]\n",
    "    if partial_categories:\n",
    "        for cat in partial_categories:\n",
    "            result_df = category_mapping[cat][output_columns].copy()\n",
    "            if not result_df.empty:\n",
    "                print(f\"\\nDiscounted products under category '{cat}':\\n\")\n",
    "                print(result_df.to_string(index=False))\n",
    "        continue\n",
    "\n",
    "    # Exact product-to-category lookup\n",
    "    if user_input in product_to_category:\n",
    "        product_category = product_to_category[user_input]\n",
    "        category_df = category_mapping.get(product_category, pd.DataFrame())\n",
    "        if not category_df.empty:\n",
    "            result_df = category_df[output_columns].copy()\n",
    "            print(f\"\\n'{user_input}' belongs to category '{product_category}'.\\nHere are all discounted items in that category:\\n\")\n",
    "            print(result_df.to_string(index=False))\n",
    "        else:\n",
    "            print(f\"No other discounted products found in '{user_input}'.\")\n",
    "    else:\n",
    "        print(f\"'{user_input}' not recognized. Try another.\")\n"
   ]
  }
 ],
 "metadata": {
  "kernelspec": {
   "display_name": "Python 3",
   "language": "python",
   "name": "python3"
  },
  "language_info": {
   "codemirror_mode": {
    "name": "ipython",
    "version": 3
   },
   "file_extension": ".py",
   "mimetype": "text/x-python",
   "name": "python",
   "nbconvert_exporter": "python",
   "pygments_lexer": "ipython3",
   "version": "3.10.0"
  }
 },
 "nbformat": 4,
 "nbformat_minor": 5
}
