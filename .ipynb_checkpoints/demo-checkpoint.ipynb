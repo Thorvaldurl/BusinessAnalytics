{
 "cells": [
  {
   "cell_type": "code",
   "execution_count": null,
   "id": "10414692",
   "metadata": {},
   "outputs": [],
   "source": [
    "import openai\n",
    "\n",
    "# Set your OpenAI API key\n",
    "openai.api_key = \"YOUR_API_KEY\"\n",
    "\n",
    "def create_prompt(ingredients, cuisine=None, dish_type=None):\n",
    "    \"\"\"\n",
    "    Create a prompt for the LLM based on given ingredients, optional cuisine and dish type.\n",
    "    \"\"\"\n",
    "    ingredient_list = \", \".join(ingredients)\n",
    "    \n",
    "    prompt = f\"You are a creative chef.\"\n",
    "    \n",
    "    if cuisine:\n",
    "        prompt += f\" Create a {cuisine} cuisine recipe.\"\n",
    "    if dish_type:\n",
    "        prompt += f\" The recipe should be a {dish_type}.\"\n",
    "\n",
    "    prompt += f\" Use as many of the following ingredients as possible: {ingredient_list}.\"\n",
    "    prompt += \" Write the recipe including a title, list of ingredients, and detailed cooking instructions.\"\n",
    "    \n",
    "    return prompt\n",
    "\n",
    "def generate_recipe(ingredients, cuisine=None, dish_type=None, model=\"gpt-4\"):\n",
    "    \"\"\"\n",
    "    Generate a recipe based on ingredients and optional cuisine/dish type using OpenAI's GPT.\n",
    "    \"\"\"\n",
    "    prompt = create_prompt(ingredients, cuisine, dish_type)\n",
    "    \n",
    "    response = openai.ChatCompletion.create(\n",
    "        model=model,\n",
    "        messages=[\n",
    "            {\"role\": \"system\", \"content\": \"You are an expert recipe generator.\"},\n",
    "            {\"role\": \"user\", \"content\": prompt}\n",
    "        ],\n",
    "        temperature=0.7,  # Creativity vs accuracy\n",
    "        max_tokens=700   # Control response length\n",
    "    )\n",
    "    \n",
    "    generated_text = response['choices'][0]['message']['content']\n",
    "    return generated_text\n"
   ]
  }
 ],
 "metadata": {
  "kernelspec": {
   "display_name": "DL",
   "language": "python",
   "name": "python3"
  },
  "language_info": {
   "name": "python",
   "version": "3.13.2"
  }
 },
 "nbformat": 4,
 "nbformat_minor": 5
}
