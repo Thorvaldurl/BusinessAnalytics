{
 "cells": [
  {
   "cell_type": "code",
   "execution_count": null,
   "id": "228d8036",
   "metadata": {},
   "outputs": [],
   "source": [
    "import openai\n",
    "\n",
    "# Set your API key\n",
    "\n",
    "\n",
    "def create_prompt(ingredients, cuisine=None, dish_type=None):\n",
    "    ingredient_list = \", \".join(ingredients)\n",
    "    \n",
    "    prompt = f\"You are a creative chef.\"\n",
    "    \n",
    "    if cuisine:\n",
    "        prompt += f\" Create a {cuisine} cuisine recipe.\"\n",
    "    if dish_type:\n",
    "        prompt += f\" The recipe should be a {dish_type}.\"\n",
    "\n",
    "    prompt += f\" Use as many of the following ingredients as possible: {ingredient_list}.\"\n",
    "    prompt += \" Write the recipe including a title, list of ingredients, and detailed cooking instructions.\"\n",
    "    \n",
    "    return prompt\n",
    "\n",
    "def generate_recipe(ingredients, cuisine=None, dish_type=None, model=\"gpt-3.5-turbo\"):\n",
    "    prompt = create_prompt(ingredients, cuisine, dish_type)\n",
    "    \n",
    "    response = client.chat.completions.create(\n",
    "        model=model,\n",
    "        messages=[\n",
    "            {\"role\": \"system\", \"content\": \"You are an expert recipe generator.\"},\n",
    "            {\"role\": \"user\", \"content\": prompt}\n",
    "        ],\n",
    "        temperature=0.7,\n",
    "        max_tokens=700\n",
    "    )\n",
    "    \n",
    "    return response.choices[0].message.content\n"
   ]
  },
  {
   "cell_type": "code",
   "execution_count": 4,
   "id": "68ae03bc",
   "metadata": {},
   "outputs": [
    {
     "name": "stdout",
     "output_type": "stream",
     "text": [
      "Title: Coconut Shrimp Danish Pastry\n",
      "\n",
      "Ingredients:\n",
      "- 1 cup coconut milk\n",
      "- 1 cup rice flour\n",
      "- 1 cup shrimp, peeled and deveined\n",
      "- 2 tablespoons sugar\n",
      "- 2 eggs\n",
      "- Puff pastry sheets\n",
      "\n",
      "Instructions:\n",
      "1. Preheat the oven to 375°F (190°C) and line a baking sheet with parchment paper.\n",
      "2. In a saucepan, heat the coconut milk over medium heat until it comes to a simmer.\n",
      "3. Gradually whisk in the rice flour, stirring constantly to avoid any lumps. Continue to cook for about 5 minutes until the mixture thickens to a paste-like consistency. Remove from heat and let it cool slightly.\n",
      "4. In a separate bowl, beat one egg and mix it into the coconut mixture along with the sugar. Stir until well combined.\n",
      "5. Take the puff pastry sheets and cut them into squares or rectangles. Place a spoonful of the coconut mixture on each piece of pastry and top with a shrimp.\n",
      "6. Fold the pastry over the filling to create a pocket and crimp the edges with a fork to seal.\n",
      "7. Beat the remaining egg and brush it over the pastries for a golden finish.\n",
      "8. Place the pastries on the prepared baking sheet and bake in the preheated oven for 15-20 minutes or until the pastry is golden brown and crispy.\n",
      "9. Serve the Coconut Shrimp Danish pastries warm as a delicious and unique treat. Enjoy!\n"
     ]
    }
   ],
   "source": [
    "# Example usage\n",
    "available_ingredients = [\"coconut milk\", \"rice flour\", \"shrimp\", \"sugar\", \"eggs\"]\n",
    "recipe = generate_recipe(\n",
    "    ingredients=available_ingredients, \n",
    "    cuisine=\"Danish\", \n",
    "    dish_type=\"pastry\"\n",
    ")\n",
    "\n",
    "print(recipe)"
   ]
  },
  {
   "cell_type": "code",
   "execution_count": null,
   "id": "a3d0ac87",
   "metadata": {},
   "outputs": [],
   "source": []
  }
 ],
 "metadata": {
  "kernelspec": {
   "display_name": "DL",
   "language": "python",
   "name": "python3"
  },
  "language_info": {
   "codemirror_mode": {
    "name": "ipython",
    "version": 3
   },
   "file_extension": ".py",
   "mimetype": "text/x-python",
   "name": "python",
   "nbconvert_exporter": "python",
   "pygments_lexer": "ipython3",
   "version": "3.13.2"
  }
 },
 "nbformat": 4,
 "nbformat_minor": 5
}
